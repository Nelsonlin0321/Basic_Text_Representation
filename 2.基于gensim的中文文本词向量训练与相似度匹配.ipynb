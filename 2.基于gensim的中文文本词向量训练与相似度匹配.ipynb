{
 "cells": [
  {
   "cell_type": "code",
   "execution_count": 1,
   "metadata": {},
   "outputs": [],
   "source": [
    "from gensim.test.utils import common_texts, get_tmpfile\n",
    "from gensim.models import Word2Vec\n",
    "import jieba.posseg\n",
    "import jieba.analyse\n",
    "import pandas as pd"
   ]
  },
  {
   "cell_type": "markdown",
   "metadata": {},
   "source": [
    "#### 1. 抽取特定词性的词"
   ]
  },
  {
   "cell_type": "code",
   "execution_count": 2,
   "metadata": {},
   "outputs": [],
   "source": [
    "def dataPrepos(text):\n",
    "    l = []\n",
    "    pos = ['n', 'nz', 'v', 'vd', 'vn', 'l', 'a', 'd']  # 定义选取的词性\n",
    "    seg = jieba.posseg.cut(text)  # 分词\n",
    "    for i in seg:\n",
    "        if i.word and i.flag in pos:  # 词性筛选\n",
    "            l.append(i.word)\n",
    "    return l"
   ]
  },
  {
   "cell_type": "code",
   "execution_count": 3,
   "metadata": {},
   "outputs": [],
   "source": [
    "data = pd.read_csv('data/sample_data.csv')"
   ]
  },
  {
   "cell_type": "code",
   "execution_count": 4,
   "metadata": {},
   "outputs": [
    {
     "data": {
      "text/html": [
       "<div>\n",
       "<style scoped>\n",
       "    .dataframe tbody tr th:only-of-type {\n",
       "        vertical-align: middle;\n",
       "    }\n",
       "\n",
       "    .dataframe tbody tr th {\n",
       "        vertical-align: top;\n",
       "    }\n",
       "\n",
       "    .dataframe thead th {\n",
       "        text-align: right;\n",
       "    }\n",
       "</style>\n",
       "<table border=\"1\" class=\"dataframe\">\n",
       "  <thead>\n",
       "    <tr style=\"text-align: right;\">\n",
       "      <th></th>\n",
       "      <th>id</th>\n",
       "      <th>title</th>\n",
       "      <th>abstract</th>\n",
       "    </tr>\n",
       "  </thead>\n",
       "  <tbody>\n",
       "    <tr>\n",
       "      <th>0</th>\n",
       "      <td>1</td>\n",
       "      <td>永磁电机驱动的纯电动大巴车坡道起步防溜策略</td>\n",
       "      <td>本发明公开了一种永磁电机驱动的纯电动大巴车坡道起步防溜策略，即本策略当制动踏板已踩下、永磁电...</td>\n",
       "    </tr>\n",
       "    <tr>\n",
       "      <th>1</th>\n",
       "      <td>2</td>\n",
       "      <td>机动车辆车门的肘靠</td>\n",
       "      <td>一种溃缩结构是作为内部支撑件而被提供在机动车辆的车门衬板上的肘靠中，所述溃缩结构具有多个以交...</td>\n",
       "    </tr>\n",
       "    <tr>\n",
       "      <th>2</th>\n",
       "      <td>3</td>\n",
       "      <td>仪表板支撑结构</td>\n",
       "      <td>本发明公开了一种支撑结构，其配置用于在车辆的乘客车厢内定位仪表板。所述支撑结构包括支撑支架和...</td>\n",
       "    </tr>\n",
       "    <tr>\n",
       "      <th>3</th>\n",
       "      <td>4</td>\n",
       "      <td>铰接的头枕总成</td>\n",
       "      <td>一种车辆座椅总成，包括座椅靠背、头枕和支承结构，支承结构在头枕和座椅靠背之间延伸。支承结构包...</td>\n",
       "    </tr>\n",
       "    <tr>\n",
       "      <th>4</th>\n",
       "      <td>5</td>\n",
       "      <td>用于评估和控制电池系统的系统和方法</td>\n",
       "      <td>本发明涉及用于评估和控制电池系统的系统和方法。介绍了用于估计电池系统中的各独立电池分部的相对...</td>\n",
       "    </tr>\n",
       "  </tbody>\n",
       "</table>\n",
       "</div>"
      ],
      "text/plain": [
       "   id                  title  \\\n",
       "0   1  永磁电机驱动的纯电动大巴车坡道起步防溜策略   \n",
       "1   2              机动车辆车门的肘靠   \n",
       "2   3                仪表板支撑结构   \n",
       "3   4                铰接的头枕总成   \n",
       "4   5      用于评估和控制电池系统的系统和方法   \n",
       "\n",
       "                                            abstract  \n",
       "0  本发明公开了一种永磁电机驱动的纯电动大巴车坡道起步防溜策略，即本策略当制动踏板已踩下、永磁电...  \n",
       "1  一种溃缩结构是作为内部支撑件而被提供在机动车辆的车门衬板上的肘靠中，所述溃缩结构具有多个以交...  \n",
       "2  本发明公开了一种支撑结构，其配置用于在车辆的乘客车厢内定位仪表板。所述支撑结构包括支撑支架和...  \n",
       "3  一种车辆座椅总成，包括座椅靠背、头枕和支承结构，支承结构在头枕和座椅靠背之间延伸。支承结构包...  \n",
       "4  本发明涉及用于评估和控制电池系统的系统和方法。介绍了用于估计电池系统中的各独立电池分部的相对...  "
      ]
     },
     "execution_count": 4,
     "metadata": {},
     "output_type": "execute_result"
    }
   ],
   "source": [
    "data.head()"
   ]
  },
  {
   "cell_type": "code",
   "execution_count": 5,
   "metadata": {},
   "outputs": [],
   "source": [
    "def getKeywords_tfidf(data,topK):\n",
    "    idList, titleList, abstractList = data['id'], data['title'], data['abstract']\n",
    "    corpus = [] # 将所有文档输出到一个list中，一行就是一个文档\n",
    "    for index in range(len(idList)):\n",
    "        text = '%s。%s' % (titleList[index], abstractList[index]) # 拼接标题和摘要\n",
    "        text = dataPrepos(text) # 文本预处理\n",
    "        text = \" \".join(text) # 连接成字符串，空格分隔\n",
    "        corpus.append(text)\n",
    "    return corpus"
   ]
  },
  {
   "cell_type": "code",
   "execution_count": 6,
   "metadata": {},
   "outputs": [
    {
     "name": "stderr",
     "output_type": "stream",
     "text": [
      "Building prefix dict from the default dictionary ...\n",
      "Loading model from cache C:\\Users\\DELL\\AppData\\Local\\Temp\\jieba.cache\n",
      "Loading model cost 0.861 seconds.\n",
      "Prefix dict has been built succesfully.\n"
     ]
    }
   ],
   "source": [
    "corpus = getKeywords_tfidf(data=data,topK=10)"
   ]
  },
  {
   "cell_type": "markdown",
   "metadata": {},
   "source": [
    "#### 2. 每一篇文章基于tf-idf 抽取Top 10 的关键词 用 ‘ ’ 分隔"
   ]
  },
  {
   "cell_type": "code",
   "execution_count": 8,
   "metadata": {},
   "outputs": [
    {
     "data": {
      "text/plain": [
       "['永磁 电机 驱动 纯 电动 大巴车 坡道 起步 防溜 策略 本发明 永磁 电机 驱动 纯 电动 大巴车 坡道 起步 防溜 策略 即 策略 制动 踏板 已 踩下 永磁 电机 转速 小于 设定值 持续 一定 时间 整车 控制 单元 产生 刹车 触发 信号 油门 踏板 开度 小于 设定值 档位 装置 时 电机 控制 单元 产生 防溜 功能 使能 信号 自动 进入 防溜 控制 使 永磁 电机 进入 转速 闭环控制 目标 转速 整车 控制 单元 检测 到 制动 踏板 仍然 踩下 则 限制 永磁 电机 输出 力矩 恢复 永磁 电机 输出 力矩 整车 控制 单元 检测 到 油门 踏板 开度 大于 设置 值 档位 装置 手刹 装置 处于 驻车 位置 则 退出 防溜 控制 切换 到 力矩 控制 策略 无需 更改 车辆 结构 添加 辅助 传感器 硬件 设备 实现 车辆 防溜 目的',\n",
       " '机动车辆 车门 靠 溃缩 结构 是 作为 支撑 提供 机动车辆 车门 衬板 靠 溃缩 结构 具有 交叉 形 方式 设计 凹陷 装饰 覆盖 泡沫 元件 安排 溃缩 结构 溃缩 结构 特别 用于 吸收 碰撞 事件 负荷 防止 车辆 乘车 免受 增加 力 峰值',\n",
       " '仪表板 支撑 结构 本发明 支撑 结构 配置 用于 车辆 乘客 车厢 内 定位 仪表板 支撑 结构 包括 支撑 支架 端部 支架 支撑 支架 附 接到 车辆 车身 面板 支撑 支架 包括 横向 偏压 导引 端部 支架 附 接到 仪表板 端部 支架 具有 邻接 支撑 支架 横向 偏压 导引 使得 横向 偏压 导引 横向 方向 偏压 仪表板 直到 端部 支架 邻接 车身 面板 横向 基准 表面']"
      ]
     },
     "execution_count": 8,
     "metadata": {},
     "output_type": "execute_result"
    }
   ],
   "source": [
    "corpus[:3] "
   ]
  },
  {
   "cell_type": "code",
   "execution_count": 9,
   "metadata": {},
   "outputs": [],
   "source": [
    "from gensim.test.utils import common_texts, get_tmpfile\n",
    "from gensim.models import Word2Vec"
   ]
  },
  {
   "cell_type": "code",
   "execution_count": 10,
   "metadata": {},
   "outputs": [],
   "source": [
    "corpus = [i.split(' ') for i in corpus]"
   ]
  },
  {
   "attachments": {},
   "cell_type": "markdown",
   "metadata": {},
   "source": [
    "- window 词窗口 左边 5 个词 右边 5 个词\n",
    "- min_count 词频最低要求\n",
    "- worker 并行计算个数\n",
    "- sg: Skip-Gram  = 1， CBOW =0 \n",
    "- negative: 负采样的个数， 要求多少个负采样的个数分数为底\n",
    "- n_exponenet = 0.75"
   ]
  },
  {
   "cell_type": "code",
   "execution_count": 13,
   "metadata": {},
   "outputs": [],
   "source": [
    "model = Word2Vec(corpus, size=100, window=5, min_count=1, workers=4, sg = 1, negative = 5, ns_exponent = 0.75)"
   ]
  },
  {
   "cell_type": "markdown",
   "metadata": {},
   "source": [
    "###### 通过训练模型后 输出这个词最相近的词"
   ]
  },
  {
   "cell_type": "code",
   "execution_count": 15,
   "metadata": {},
   "outputs": [
    {
     "name": "stderr",
     "output_type": "stream",
     "text": [
      "C:\\Users\\DELL\\AppData\\Roaming\\Python\\Python36\\site-packages\\ipykernel_launcher.py:1: DeprecationWarning: Call to deprecated `most_similar` (Method will be removed in 4.0.0, use self.wv.most_similar() instead).\n",
      "  \"\"\"Entry point for launching an IPython kernel.\n"
     ]
    },
    {
     "data": {
      "text/plain": [
       "[('具有', 0.3485231399536133),\n",
       " ('运行', 0.34649547934532166),\n",
       " ('表面', 0.32488691806793213),\n",
       " ('过程', 0.3196510970592499),\n",
       " ('包括', 0.2992086112499237),\n",
       " ('结构', 0.2987203896045685),\n",
       " ('电池', 0.2976333498954773),\n",
       " ('满足', 0.29630720615386963),\n",
       " ('单元', 0.2953327000141144),\n",
       " ('头枕', 0.29290771484375)]"
      ]
     },
     "execution_count": 15,
     "metadata": {},
     "output_type": "execute_result"
    }
   ],
   "source": [
    "model.most_similar('横向')"
   ]
  },
  {
   "cell_type": "code",
   "execution_count": 18,
   "metadata": {},
   "outputs": [
    {
     "data": {
      "text/plain": [
       "<gensim.models.word2vec.Word2VecVocab at 0x1e0da4e5668>"
      ]
     },
     "execution_count": 18,
     "metadata": {},
     "output_type": "execute_result"
    }
   ],
   "source": [
    "model.vocabulary"
   ]
  },
  {
   "cell_type": "code",
   "execution_count": null,
   "metadata": {},
   "outputs": [],
   "source": []
  }
 ],
 "metadata": {
  "kernelspec": {
   "display_name": "Python 3",
   "language": "python",
   "name": "python3"
  },
  "language_info": {
   "codemirror_mode": {
    "name": "ipython",
    "version": 3
   },
   "file_extension": ".py",
   "mimetype": "text/x-python",
   "name": "python",
   "nbconvert_exporter": "python",
   "pygments_lexer": "ipython3",
   "version": "3.6.5"
  }
 },
 "nbformat": 4,
 "nbformat_minor": 2
}
